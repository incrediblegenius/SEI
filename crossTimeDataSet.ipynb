{
 "cells": [
  {
   "cell_type": "code",
   "execution_count": 1,
   "source": [
    "from util import ProcessSignal,ProcessSignal16x16,ResampleSignal16x16,ResampleSignal64x64, ProcessSignal_noise\n",
    "import os\n",
    "import numpy as np"
   ],
   "outputs": [],
   "metadata": {}
  },
  {
   "cell_type": "code",
   "execution_count": 2,
   "source": [
    "testset = []\n",
    "testemi = []\n",
    "trainset = []\n",
    "trainemi = []\n",
    "# emitter = []\n",
    "fs = 186666677\n",
    "traindir = ['./20200401','./20200402','./20200403','./20200404','./20200405','./20200406','./20200407','./20200408','./20200409']\n",
    "testdir = ['./20201105','./20201106','./20201107','./20201108','./20201109']\n",
    "for root,dirs,file in os.walk('./'):\n",
    "    if root in traindir:\n",
    "        for f in file:\n",
    "            if f[-4:] =='.dat':\n",
    "                trainemi.append(f.split('_')[-2])\n",
    "                # emitter.append(f.split('_')[-2])\n",
    "                sig = np.memmap(root+'/'+f,dtype='int16',mode='r')\n",
    "                # trainset.append(ProcessSignal(sig,fs))\n",
    "                # trainset.append(ResampleSignal64x64(sig))\n",
    "                trainset.append(ProcessSignal_noise(sig,fs))\n",
    "    if root in testdir:\n",
    "        for f in file:\n",
    "            if f[-4:] =='.dat':\n",
    "                testemi.append(f.split('_')[-2])\n",
    "                # emitter.append(f.split('_')[-2])\n",
    "                sig = np.memmap(root+'/'+f,dtype='int16',mode='r')\n",
    "                # testset.append(ProcessSignal(sig,fs))\n",
    "                # testset.append(ResampleSignal64x64(sig))\n",
    "                testset.append(ProcessSignal_noise(sig,fs))\n",
    "\n"
   ],
   "outputs": [],
   "metadata": {}
  },
  {
   "cell_type": "code",
   "execution_count": 3,
   "source": [
    "emset = list(set(trainemi).intersection(set(testemi)))\n"
   ],
   "outputs": [],
   "metadata": {}
  },
  {
   "cell_type": "code",
   "execution_count": 4,
   "source": [
    "a = [i for i in range(len(emset))]\n",
    "emi = dict(zip(emset,a))\n",
    "emi"
   ],
   "outputs": [
    {
     "output_type": "execute_result",
     "data": {
      "text/plain": [
       "{'780635': 0,\n",
       " '780db4': 1,\n",
       " '7804ea': 2,\n",
       " '7804f5': 3,\n",
       " '780df9': 4,\n",
       " '7804bc': 5,\n",
       " '780cbc': 6,\n",
       " '780fe3': 7,\n",
       " '78048f': 8,\n",
       " '780063': 9,\n",
       " '78087a': 10,\n",
       " '780d19': 11,\n",
       " '780d8c': 12,\n",
       " '7807cb': 13,\n",
       " '780830': 14,\n",
       " '78027c': 15,\n",
       " '780b69': 16,\n",
       " '780800': 17,\n",
       " '780609': 18,\n",
       " '780649': 19,\n",
       " '78027b': 20,\n",
       " '7805c3': 21,\n",
       " '780c2d': 22,\n",
       " '78048b': 23,\n",
       " '780831': 24,\n",
       " '7802b1': 25,\n",
       " '780291': 26,\n",
       " '780070': 27,\n",
       " '780277': 28,\n",
       " '7809a3': 29,\n",
       " '780dfa': 30,\n",
       " '780fb6': 31,\n",
       " '780534': 32,\n",
       " '78050f': 33}"
      ]
     },
     "metadata": {},
     "execution_count": 4
    }
   ],
   "metadata": {}
  },
  {
   "cell_type": "code",
   "execution_count": 5,
   "source": [
    "train_data = []\n",
    "train_lable = []\n",
    "test_data = []\n",
    "test_lable = []\n",
    "for i in range(len(trainset)):\n",
    "    if trainemi[i] in emi:\n",
    "        train_data.append(trainset[i])\n",
    "        train_lable.append(int(emi[trainemi[i]]))\n",
    "for i in range(len(testset)):\n",
    "    if testemi[i] in emi:\n",
    "        test_data.append(testset[i])\n",
    "        test_lable.append(int(emi[testemi[i]]))"
   ],
   "outputs": [],
   "metadata": {}
  },
  {
   "cell_type": "code",
   "execution_count": 27,
   "source": [
    "import h5py\n",
    "f = h5py.File('./dataset/noise_64x64_202004xx_to_202011xx.h5', 'w')\n",
    "f.create_dataset('X_train', data=train_data)\n",
    "f.create_dataset('y_train', data=train_lable)\n",
    "f.create_dataset('X_test', data=test_data)\n",
    "f.create_dataset('y_test', data=test_lable)\n",
    "f.close()"
   ],
   "outputs": [],
   "metadata": {}
  }
 ],
 "metadata": {
  "orig_nbformat": 4,
  "language_info": {
   "name": "python",
   "version": "3.8.3",
   "mimetype": "text/x-python",
   "codemirror_mode": {
    "name": "ipython",
    "version": 3
   },
   "pygments_lexer": "ipython3",
   "nbconvert_exporter": "python",
   "file_extension": ".py"
  },
  "kernelspec": {
   "name": "python3",
   "display_name": "Python 3.8.3 64-bit ('base': conda)"
  },
  "interpreter": {
   "hash": "fb02ac6f80c2960f85351c91d39b082ff33e615006ccb793b463b41ffb5114c0"
  }
 },
 "nbformat": 4,
 "nbformat_minor": 2
}